{
 "cells": [
  {
   "cell_type": "markdown",
   "metadata": {},
   "source": [
    "Pierre Nugues\n",
    "Chapter 1"
   ]
  },
  {
   "cell_type": "code",
   "execution_count": 1,
   "metadata": {},
   "outputs": [
    {
     "data": {
      "text/plain": [
       "3"
      ]
     },
     "execution_count": 1,
     "metadata": {},
     "output_type": "execute_result"
    }
   ],
   "source": [
    "a = 1\n",
    "b = 2 \n",
    "b + 1"
   ]
  },
  {
   "cell_type": "code",
   "execution_count": 2,
   "metadata": {},
   "outputs": [
    {
     "data": {
      "text/plain": [
       "0.3333333333333333"
      ]
     },
     "execution_count": 2,
     "metadata": {},
     "output_type": "execute_result"
    }
   ],
   "source": [
    "c = a / (b + 1)\n",
    "c"
   ]
  },
  {
   "cell_type": "code",
   "execution_count": 3,
   "metadata": {},
   "outputs": [],
   "source": [
    "text = 'Result:'"
   ]
  },
  {
   "cell_type": "code",
   "execution_count": 4,
   "metadata": {},
   "outputs": [
    {
     "name": "stdout",
     "output_type": "stream",
     "text": [
      "Result: 0.3333333333333333\n"
     ]
    }
   ],
   "source": [
    "print(text, c)"
   ]
  },
  {
   "cell_type": "code",
   "execution_count": 5,
   "metadata": {},
   "outputs": [
    {
     "name": "stdout",
     "output_type": "stream",
     "text": [
      "1\n",
      "2\n",
      "3\n",
      "4\n",
      "5\n",
      "6\n",
      "Done\n"
     ]
    }
   ],
   "source": [
    "for i in [1, 2, 3, 4, 5, 6]:\n",
    "    print(i)\n",
    "print('Done')"
   ]
  },
  {
   "cell_type": "code",
   "execution_count": 6,
   "metadata": {},
   "outputs": [
    {
     "name": "stdout",
     "output_type": "stream",
     "text": [
      "Odd: 1\n",
      "Even: 2\n",
      "Odd: 3\n",
      "Even: 4\n",
      "Odd: 5\n",
      "Even: 6\n",
      "Done\n"
     ]
    }
   ],
   "source": [
    "for i in [1, 2, 3, 4, 5, 6]:\n",
    "    if i % 2 == 0:\n",
    "        print('Even:', i)\n",
    "    else:\n",
    "        print('Odd:', i)\n",
    "print('Done')"
   ]
  },
  {
   "cell_type": "code",
   "execution_count": 7,
   "metadata": {},
   "outputs": [
    {
     "data": {
      "text/plain": [
       "'Sing, O goddess, the anger of Achilles son of\\nPeleus, that brought countless ills upon the Achaeans.'"
      ]
     },
     "execution_count": 7,
     "metadata": {},
     "output_type": "execute_result"
    }
   ],
   "source": [
    "iliad = \"\"\"Sing, O goddess, the anger of Achilles son of\n",
    "Peleus, that brought countless ills upon the Achaeans.\"\"\"\n",
    "iliad"
   ]
  },
  {
   "cell_type": "code",
   "execution_count": 8,
   "metadata": {},
   "outputs": [
    {
     "data": {
      "text/plain": [
       "'Sing, O goddess, the anger of Achilles son of Peleus, that brought countless ills upon the Achaeans.'"
      ]
     },
     "execution_count": 8,
     "metadata": {},
     "output_type": "execute_result"
    }
   ],
   "source": [
    "iliad2 = 'Sing, O goddess, the anger of Achilles son of \\\n",
    "Peleus, that brought countless ills upon the Achaeans.'\n",
    "iliad2"
   ]
  },
  {
   "cell_type": "code",
   "execution_count": 9,
   "metadata": {},
   "outputs": [
    {
     "data": {
      "text/plain": [
       "'z'"
      ]
     },
     "execution_count": 9,
     "metadata": {},
     "output_type": "execute_result"
    }
   ],
   "source": [
    "alphabet = 'abcdefghijklmnopqrstuvwxyz'\n",
    "alphabet[0] # ’a’\n",
    "alphabet[1] # ’b’\n",
    "alphabet[25] # ’z’"
   ]
  },
  {
   "cell_type": "code",
   "execution_count": 10,
   "metadata": {},
   "outputs": [
    {
     "data": {
      "text/plain": [
       "'a'"
      ]
     },
     "execution_count": 10,
     "metadata": {},
     "output_type": "execute_result"
    }
   ],
   "source": [
    "alphabet[-1] # the last character of a string: ’z’\n",
    "alphabet[-2] # the second last: ’y’\n",
    "alphabet[-26] # ’a’"
   ]
  },
  {
   "cell_type": "code",
   "execution_count": 11,
   "metadata": {},
   "outputs": [
    {
     "data": {
      "text/plain": [
       "26"
      ]
     },
     "execution_count": 11,
     "metadata": {},
     "output_type": "execute_result"
    }
   ],
   "source": [
    "len(alphabet)"
   ]
  },
  {
   "cell_type": "code",
   "execution_count": 12,
   "metadata": {},
   "outputs": [
    {
     "data": {
      "text/plain": [
       "'abcabcabc'"
      ]
     },
     "execution_count": 12,
     "metadata": {},
     "output_type": "execute_result"
    }
   ],
   "source": [
    "'abc' + 'def'\n",
    "'abc' * 3"
   ]
  },
  {
   "cell_type": "code",
   "execution_count": 13,
   "metadata": {},
   "outputs": [
    {
     "data": {
      "text/plain": [
       "'abc, def, ghi'"
      ]
     },
     "execution_count": 13,
     "metadata": {},
     "output_type": "execute_result"
    }
   ],
   "source": [
    "''.join(['abc', 'def', 'ghi'])\n",
    "' '.join(['abc', 'def', 'ghi'])\n",
    "', '.join(['abc', 'def', 'ghi'])"
   ]
  },
  {
   "cell_type": "code",
   "execution_count": 14,
   "metadata": {},
   "outputs": [
    {
     "data": {
      "text/plain": [
       "'EÉÈÊË'"
      ]
     },
     "execution_count": 14,
     "metadata": {},
     "output_type": "execute_result"
    }
   ],
   "source": [
    "accented_e = 'eéèêë'\n",
    "accented_e.upper() # ’EÉÈÊË’"
   ]
  },
  {
   "cell_type": "code",
   "execution_count": 15,
   "metadata": {},
   "outputs": [
    {
     "data": {
      "text/plain": [
       "'eéèêë'"
      ]
     },
     "execution_count": 15,
     "metadata": {},
     "output_type": "execute_result"
    }
   ],
   "source": [
    "accented_E = 'EÉÈÊË'\n",
    "accented_E.lower() # ’eéèêë’"
   ]
  },
  {
   "cell_type": "code",
   "execution_count": 16,
   "metadata": {},
   "outputs": [
    {
     "data": {
      "text/plain": [
       "'αβγdefghijklmnopqrstuvwxyz'"
      ]
     },
     "execution_count": 16,
     "metadata": {},
     "output_type": "execute_result"
    }
   ],
   "source": [
    "alphabet.find('def') # 3\n",
    "alphabet.find('é') # -1\n",
    "alphabet.replace('abc', 'αβγ') "
   ]
  },
  {
   "cell_type": "code",
   "execution_count": 17,
   "metadata": {},
   "outputs": [
    {
     "name": "stdout",
     "output_type": "stream",
     "text": [
      "ioeeaeoieooeeuaououeiuoeaea\n"
     ]
    }
   ],
   "source": [
    "text_vowels = ''\n",
    "for i in iliad:\n",
    "    if i in 'aeiou':\n",
    "        text_vowels = text_vowels + i\n",
    "print(text_vowels)"
   ]
  },
  {
   "cell_type": "code",
   "execution_count": 18,
   "metadata": {},
   "outputs": [
    {
     "data": {
      "text/plain": [
       "'abcdefghijklmnopqrstuvwxyz'"
      ]
     },
     "execution_count": 18,
     "metadata": {},
     "output_type": "execute_result"
    }
   ],
   "source": [
    "alphabet[0:3] # the three first letters of alphabet: ’abc’\n",
    "alphabet[:3] # equivalent to alphabet[0:3]\n",
    "alphabet[3:6] # substring from index 3 to index 5: ’def’\n",
    "alphabet[-3:] # the three last letters of alphabet: ’xyz’\n",
    "alphabet[10:-10] # ’klmnop’\n",
    "alphabet[:] # all the letters: ’a...z’"
   ]
  },
  {
   "cell_type": "code",
   "execution_count": 19,
   "metadata": {},
   "outputs": [
    {
     "data": {
      "text/plain": [
       "'abcdefghijklmnopqrstuvwxyz'"
      ]
     },
     "execution_count": 19,
     "metadata": {},
     "output_type": "execute_result"
    }
   ],
   "source": [
    "alphabet[:3] + alphabet[3:]"
   ]
  },
  {
   "cell_type": "code",
   "execution_count": 20,
   "metadata": {},
   "outputs": [
    {
     "name": "stdout",
     "output_type": "stream",
     "text": [
      "@\n",
      "@\n",
      "@\n",
      "Œ\n"
     ]
    }
   ],
   "source": [
    "print('\\N{COMMERCIAL AT}') # ’@’\n",
    "print('\\x40') # ’@’\n",
    "print('\\100') # ’@’\n",
    "print('\\u0152') # ’Œ’"
   ]
  },
  {
   "cell_type": "code",
   "execution_count": 21,
   "metadata": {},
   "outputs": [
    {
     "name": "stdout",
     "output_type": "stream",
     "text": [
      "\\N{COMMERCIAL AT}\n",
      "\\x40\n",
      "\\100\n",
      "\\u0152\n"
     ]
    }
   ],
   "source": [
    "print(r'\\N{COMMERCIAL AT}')\n",
    "print(r'\\x40')\n",
    "print(r'\\100')\n",
    "print(r'\\u0152')"
   ]
  },
  {
   "cell_type": "code",
   "execution_count": 22,
   "metadata": {},
   "outputs": [
    {
     "data": {
      "text/plain": [
       "'my string is empty'"
      ]
     },
     "execution_count": 22,
     "metadata": {},
     "output_type": "execute_result"
    }
   ],
   "source": [
    "begin = 'my'\n",
    "'{} string {}'.format(begin, 'is empty')"
   ]
  },
  {
   "cell_type": "code",
   "execution_count": 23,
   "metadata": {},
   "outputs": [
    {
     "data": {
      "text/plain": [
       "'is empty string my'"
      ]
     },
     "execution_count": 23,
     "metadata": {},
     "output_type": "execute_result"
    }
   ],
   "source": [
    "begin = 'my'\n",
    "'{1} string {0}'.format(begin, 'is empty')"
   ]
  },
  {
   "cell_type": "code",
   "execution_count": 24,
   "metadata": {},
   "outputs": [
    {
     "data": {
      "text/plain": [
       "NoneType"
      ]
     },
     "execution_count": 24,
     "metadata": {},
     "output_type": "execute_result"
    }
   ],
   "source": [
    "type(alphabet) # <class ’str’>\n",
    "type(12) # <class ’int’>\n",
    "type('12') # <class ’str’>\n",
    "type(12.0) # <class ’float’>\n",
    "type(True) # <class ’bool’>\n",
    "type(1 < 2) # <class ’bool’>\n",
    "type(None) # <class ’NoneType’>"
   ]
  },
  {
   "cell_type": "code",
   "execution_count": 25,
   "metadata": {},
   "outputs": [
    {
     "data": {
      "text/plain": [
       "[1, 8, 3]"
      ]
     },
     "execution_count": 25,
     "metadata": {},
     "output_type": "execute_result"
    }
   ],
   "source": [
    "list1 = []\n",
    "list2 = [1,2,3]\n",
    "list2[1] # 2\n",
    "list2[1] = 8\n",
    "list2 # [1, 8, 3]\n",
    "#list2[4] # Index error"
   ]
  },
  {
   "cell_type": "code",
   "execution_count": 26,
   "metadata": {},
   "outputs": [
    {
     "data": {
      "text/plain": [
       "[1, 3.14, 'Prolog', 'my string']"
      ]
     },
     "execution_count": 26,
     "metadata": {},
     "output_type": "execute_result"
    }
   ],
   "source": [
    "var1 = 3.14\n",
    "var2 = 'my string'\n",
    "list3 = [1, var1, 'Prolog', var2]\n",
    "list3"
   ]
  },
  {
   "cell_type": "code",
   "execution_count": 27,
   "metadata": {},
   "outputs": [
    {
     "data": {
      "text/plain": [
       "[1, 2.72, 'Perl', 'Python', 'my string']"
      ]
     },
     "execution_count": 27,
     "metadata": {},
     "output_type": "execute_result"
    }
   ],
   "source": [
    "list3[1:3] # [3.14, ’Prolog’]\n",
    "list3[1:3] = [2.72, 'Perl', 'Python']\n",
    "list3"
   ]
  },
  {
   "cell_type": "code",
   "execution_count": 28,
   "metadata": {},
   "outputs": [
    {
     "data": {
      "text/plain": [
       "[[1, 8, 3], [1, 2.72, 'Perl', 'Python', 'my string']]"
      ]
     },
     "execution_count": 28,
     "metadata": {},
     "output_type": "execute_result"
    }
   ],
   "source": [
    "list4 = [list2, list3]\n",
    "list4"
   ]
  },
  {
   "cell_type": "code",
   "execution_count": 29,
   "metadata": {},
   "outputs": [
    {
     "data": {
      "text/plain": [
       "'Python'"
      ]
     },
     "execution_count": 29,
     "metadata": {},
     "output_type": "execute_result"
    }
   ],
   "source": [
    "list4[0][1]\n",
    "list4[1][3]"
   ]
  },
  {
   "cell_type": "code",
   "execution_count": 30,
   "metadata": {},
   "outputs": [
    {
     "data": {
      "text/plain": [
       "8"
      ]
     },
     "execution_count": 30,
     "metadata": {},
     "output_type": "execute_result"
    }
   ],
   "source": [
    "list5 = list2\n",
    "[v1,v2,v3] = list5\n",
    "v2"
   ]
  },
  {
   "cell_type": "code",
   "execution_count": 31,
   "metadata": {},
   "outputs": [
    {
     "data": {
      "text/plain": [
       "[0.0, 0.0, 0.0, 0.0]"
      ]
     },
     "execution_count": 31,
     "metadata": {},
     "output_type": "execute_result"
    }
   ],
   "source": [
    "list2 = [1,8,3]\n",
    "list2 # [1, 8, 3]\n",
    "list3[:-1] # [1, 2.72, ’Perl’, ’Python’]\n",
    "[1, 2, 3] + ['a', 'b'] # [1, 2, 3, ’a’, ’b’]\n",
    "list2[:2] + list3[2:-1] # [1, 8, ’Perl’, ’Python’]\n",
    "list2 * 2 # [1, 8, 3, 1, 8, 3]\n",
    "[0.0] * 4 # Initializes a list of four 0.0s"
   ]
  },
  {
   "cell_type": "code",
   "execution_count": 32,
   "metadata": {},
   "outputs": [
    {
     "data": {
      "text/plain": [
       "['a', 2, 3, 4, 5, 6]"
      ]
     },
     "execution_count": 32,
     "metadata": {},
     "output_type": "execute_result"
    }
   ],
   "source": [
    "list2 # [1, 8, 3]\n",
    "list2[1] = 2 # [1, 2, 3]\n",
    "len(list2) # 3\n",
    "list2.extend([4, 5]) # [1, 2, 3, 4, 5]\n",
    "list2.append(6) # [1, 2, 3, 4, 5, 6]\n",
    "list2.append([7, 8]) # [1, 2, 3, 4, 5, 6, [7, 8]]\n",
    "list2.pop(-1) # [1, 2, 3, 4, 5, 6]\n",
    "list2.remove(1) # [2, 3, 4, 5, 6]\n",
    "list2.insert(0, 'a')\n",
    "list2"
   ]
  },
  {
   "cell_type": "code",
   "execution_count": 33,
   "metadata": {},
   "outputs": [
    {
     "data": {
      "text/plain": [
       "['__add__',\n",
       " '__class__',\n",
       " '__contains__',\n",
       " '__delattr__',\n",
       " '__delitem__',\n",
       " '__dir__',\n",
       " '__doc__',\n",
       " '__eq__',\n",
       " '__format__',\n",
       " '__ge__',\n",
       " '__getattribute__',\n",
       " '__getitem__',\n",
       " '__gt__',\n",
       " '__hash__',\n",
       " '__iadd__',\n",
       " '__imul__',\n",
       " '__init__',\n",
       " '__init_subclass__',\n",
       " '__iter__',\n",
       " '__le__',\n",
       " '__len__',\n",
       " '__lt__',\n",
       " '__mul__',\n",
       " '__ne__',\n",
       " '__new__',\n",
       " '__reduce__',\n",
       " '__reduce_ex__',\n",
       " '__repr__',\n",
       " '__reversed__',\n",
       " '__rmul__',\n",
       " '__setattr__',\n",
       " '__setitem__',\n",
       " '__sizeof__',\n",
       " '__str__',\n",
       " '__subclasshook__',\n",
       " 'append',\n",
       " 'clear',\n",
       " 'copy',\n",
       " 'count',\n",
       " 'extend',\n",
       " 'index',\n",
       " 'insert',\n",
       " 'pop',\n",
       " 'remove',\n",
       " 'reverse',\n",
       " 'sort']"
      ]
     },
     "execution_count": 33,
     "metadata": {},
     "output_type": "execute_result"
    }
   ],
   "source": [
    "dir(list)"
   ]
  },
  {
   "cell_type": "code",
   "execution_count": 34,
   "metadata": {},
   "outputs": [
    {
     "data": {
      "text/plain": [
       "['__add__',\n",
       " '__class__',\n",
       " '__contains__',\n",
       " '__delattr__',\n",
       " '__delitem__',\n",
       " '__dir__',\n",
       " '__doc__',\n",
       " '__eq__',\n",
       " '__format__',\n",
       " '__ge__',\n",
       " '__getattribute__',\n",
       " '__getitem__',\n",
       " '__gt__',\n",
       " '__hash__',\n",
       " '__iadd__',\n",
       " '__imul__',\n",
       " '__init__',\n",
       " '__init_subclass__',\n",
       " '__iter__',\n",
       " '__le__',\n",
       " '__len__',\n",
       " '__lt__',\n",
       " '__mul__',\n",
       " '__ne__',\n",
       " '__new__',\n",
       " '__reduce__',\n",
       " '__reduce_ex__',\n",
       " '__repr__',\n",
       " '__reversed__',\n",
       " '__rmul__',\n",
       " '__setattr__',\n",
       " '__setitem__',\n",
       " '__sizeof__',\n",
       " '__str__',\n",
       " '__subclasshook__',\n",
       " 'append',\n",
       " 'clear',\n",
       " 'copy',\n",
       " 'count',\n",
       " 'extend',\n",
       " 'index',\n",
       " 'insert',\n",
       " 'pop',\n",
       " 'remove',\n",
       " 'reverse',\n",
       " 'sort']"
      ]
     },
     "execution_count": 34,
     "metadata": {},
     "output_type": "execute_result"
    }
   ],
   "source": [
    "dir(list)"
   ]
  },
  {
   "cell_type": "code",
   "execution_count": 35,
   "metadata": {},
   "outputs": [
    {
     "name": "stdout",
     "output_type": "stream",
     "text": [
      "Help on method_descriptor:\n",
      "\n",
      "append(self, object, /)\n",
      "    Append object to the end of the list.\n",
      "\n"
     ]
    }
   ],
   "source": [
    "help(list.append)"
   ]
  },
  {
   "cell_type": "code",
   "execution_count": 36,
   "metadata": {},
   "outputs": [
    {
     "data": {
      "text/plain": [
       "(2, 3, 4)"
      ]
     },
     "execution_count": 36,
     "metadata": {},
     "output_type": "execute_result"
    }
   ],
   "source": [
    "tuple1 = () # An empty tuple\n",
    "tuple1 = tuple() # Another way to create an empty tuple\n",
    "tuple2 = (1, 2, 3, 4)\n",
    "tuple2[3] # 4\n",
    "tuple2[1:4] # (2, 3, 4)"
   ]
  },
  {
   "cell_type": "code",
   "execution_count": 37,
   "metadata": {},
   "outputs": [
    {
     "data": {
      "text/plain": [
       "int"
      ]
     },
     "execution_count": 37,
     "metadata": {},
     "output_type": "execute_result"
    }
   ],
   "source": [
    "type((1))"
   ]
  },
  {
   "cell_type": "code",
   "execution_count": 38,
   "metadata": {},
   "outputs": [
    {
     "data": {
      "text/plain": [
       "tuple"
      ]
     },
     "execution_count": 38,
     "metadata": {},
     "output_type": "execute_result"
    }
   ],
   "source": [
    "type((1,))"
   ]
  },
  {
   "cell_type": "code",
   "execution_count": 39,
   "metadata": {},
   "outputs": [
    {
     "data": {
      "text/plain": [
       "[1]"
      ]
     },
     "execution_count": 39,
     "metadata": {},
     "output_type": "execute_result"
    }
   ],
   "source": [
    "list6 = ['a', 'b', 'c']\n",
    "tuple3 = tuple(list6) # conversion to a tuple: (’a’, ’b’, ’c’)\n",
    "type(tuple3) # <class ’tuple’>\n",
    "list7 = list(tuple2) # [1, 2, 3, 4]\n",
    "tuple([1]) # (1,)\n",
    "# conversion to a tuple of one item\n",
    "list((1,))"
   ]
  },
  {
   "cell_type": "code",
   "execution_count": 43,
   "metadata": {},
   "outputs": [
    {
     "data": {
      "text/plain": [
       "((1, 2, 3, 4), ['a', 'β', 'c'])"
      ]
     },
     "execution_count": 43,
     "metadata": {},
     "output_type": "execute_result"
    }
   ],
   "source": [
    "tuple4 = (tuple2, list6) # ((1, 2, 3, 4), [’a’, ’b’, ’c’])\n",
    "tuple4[0] # (1, 2, 3, 4),\n",
    "tuple4[1] # [’a’, ’b’, ’c’]\n",
    "tuple4[0][2] # 3\n",
    "tuple4[1][1] # ’b’\n",
    "tuple4[1][1] = 'β' # ((1, 2, 3, 4), [’a’, ’β’, ’c’])\n",
    "tuple4"
   ]
  },
  {
   "cell_type": "code",
   "execution_count": 46,
   "metadata": {},
   "outputs": [
    {
     "data": {
      "text/plain": [
       "{'b', 'c', 'd'}"
      ]
     },
     "execution_count": 46,
     "metadata": {},
     "output_type": "execute_result"
    }
   ],
   "source": [
    "set1 = set() # An empty set\n",
    "set2 = {'a', 'b', 'c', 'c', 'b'} # {’a’, ’b’, ’c’}\n",
    "set2.add('d') # {’a’, ’b’, ’c’, ’d’}\n",
    "set2.remove('a')\n",
    "set2"
   ]
  },
  {
   "cell_type": "code",
   "execution_count": 50,
   "metadata": {},
   "outputs": [],
   "source": [
    "list8 = ['a', 'b', 'c', 'c', 'b']\n",
    "set3 = set(list8) # {’a’, ’b’, ’c’}\n",
    "iliad_chars = set(iliad.lower())"
   ]
  },
  {
   "cell_type": "code",
   "execution_count": 51,
   "metadata": {},
   "outputs": [
    {
     "data": {
      "text/plain": [
       "['\\n',\n",
       " ' ',\n",
       " ',',\n",
       " '.',\n",
       " 'a',\n",
       " 'b',\n",
       " 'c',\n",
       " 'd',\n",
       " 'e',\n",
       " 'f',\n",
       " 'g',\n",
       " 'h',\n",
       " 'i',\n",
       " 'l',\n",
       " 'n',\n",
       " 'o',\n",
       " 'p',\n",
       " 'r',\n",
       " 's',\n",
       " 't',\n",
       " 'u']"
      ]
     },
     "execution_count": 51,
     "metadata": {},
     "output_type": "execute_result"
    }
   ],
   "source": [
    "sorted(iliad_chars)"
   ]
  },
  {
   "cell_type": "code",
   "execution_count": 54,
   "metadata": {},
   "outputs": [
    {
     "data": {
      "text/plain": [
       "{'a': 21, 'And': 10, 'the': 18}"
      ]
     },
     "execution_count": 54,
     "metadata": {},
     "output_type": "execute_result"
    }
   ],
   "source": [
    "wordcount = {} # We create an empty dictionary\n",
    "wordcount = dict() # Another way to create a dictionary\n",
    "wordcount['a'] = 21 # The key ’a’ has value 21\n",
    "wordcount['And'] = 10 # ’And’ has value 10\n",
    "wordcount['the'] = 18\n",
    "wordcount"
   ]
  },
  {
   "cell_type": "code",
   "execution_count": 56,
   "metadata": {},
   "outputs": [
    {
     "data": {
      "text/plain": [
       "True"
      ]
     },
     "execution_count": 56,
     "metadata": {},
     "output_type": "execute_result"
    }
   ],
   "source": [
    "'And' in wordcount"
   ]
  },
  {
   "cell_type": "code",
   "execution_count": 57,
   "metadata": {},
   "outputs": [
    {
     "data": {
      "text/plain": [
       "False"
      ]
     },
     "execution_count": 57,
     "metadata": {},
     "output_type": "execute_result"
    }
   ],
   "source": [
    "'is' in wordcount"
   ]
  },
  {
   "cell_type": "code",
   "execution_count": 62,
   "metadata": {},
   "outputs": [
    {
     "data": {
      "text/plain": [
       "10"
      ]
     },
     "execution_count": 62,
     "metadata": {},
     "output_type": "execute_result"
    }
   ],
   "source": [
    "wordcount.get('And')"
   ]
  },
  {
   "cell_type": "code",
   "execution_count": 63,
   "metadata": {},
   "outputs": [
    {
     "data": {
      "text/plain": [
       "dict_keys(['a', 'And', 'the'])"
      ]
     },
     "execution_count": 63,
     "metadata": {},
     "output_type": "execute_result"
    }
   ],
   "source": [
    "wordcount.keys()"
   ]
  },
  {
   "cell_type": "code",
   "execution_count": 64,
   "metadata": {},
   "outputs": [
    {
     "data": {
      "text/plain": [
       "dict_values([21, 10, 18])"
      ]
     },
     "execution_count": 64,
     "metadata": {},
     "output_type": "execute_result"
    }
   ],
   "source": [
    "wordcount.values()"
   ]
  },
  {
   "cell_type": "code",
   "execution_count": 65,
   "metadata": {},
   "outputs": [
    {
     "data": {
      "text/plain": [
       "dict_items([('a', 21), ('And', 10), ('the', 18)])"
      ]
     },
     "execution_count": 65,
     "metadata": {},
     "output_type": "execute_result"
    }
   ],
   "source": [
    "wordcount.items()"
   ]
  },
  {
   "cell_type": "code",
   "execution_count": 67,
   "metadata": {},
   "outputs": [
    {
     "data": {
      "text/plain": [
       "{'s': 10,\n",
       " 'i': 3,\n",
       " 'n': 6,\n",
       " 'g': 4,\n",
       " 'o': 8,\n",
       " 'd': 2,\n",
       " 'e': 9,\n",
       " 't': 6,\n",
       " 'h': 6,\n",
       " 'a': 6,\n",
       " 'r': 2,\n",
       " 'f': 2,\n",
       " 'c': 3,\n",
       " 'l': 6,\n",
       " 'p': 2,\n",
       " 'u': 4,\n",
       " 'b': 1}"
      ]
     },
     "execution_count": 67,
     "metadata": {},
     "output_type": "execute_result"
    }
   ],
   "source": [
    "letter_count = {}\n",
    "for letter in iliad.lower():\n",
    "    if letter in alphabet:\n",
    "        if letter in letter_count:\n",
    "            letter_count[letter] += 1\n",
    "        else:\n",
    "            letter_count[letter] = 1\n",
    "letter_count"
   ]
  },
  {
   "cell_type": "code",
   "execution_count": 69,
   "metadata": {},
   "outputs": [
    {
     "name": "stdout",
     "output_type": "stream",
     "text": [
      "a 6\n",
      "b 1\n",
      "c 3\n",
      "d 2\n",
      "e 9\n",
      "f 2\n",
      "g 4\n",
      "h 6\n",
      "i 3\n",
      "l 6\n",
      "n 6\n",
      "o 8\n",
      "p 2\n",
      "r 2\n",
      "s 10\n",
      "t 6\n",
      "u 4\n"
     ]
    }
   ],
   "source": [
    "for letter in sorted(letter_count.keys()):\n",
    "    print(letter, letter_count[letter])"
   ]
  },
  {
   "cell_type": "code",
   "execution_count": 71,
   "metadata": {},
   "outputs": [
    {
     "name": "stdout",
     "output_type": "stream",
     "text": [
      "s 10\n",
      "e 9\n",
      "o 8\n",
      "n 6\n",
      "t 6\n",
      "h 6\n",
      "a 6\n",
      "l 6\n",
      "g 4\n",
      "u 4\n",
      "i 3\n",
      "c 3\n",
      "d 2\n",
      "r 2\n",
      "f 2\n",
      "p 2\n",
      "b 1\n"
     ]
    }
   ],
   "source": [
    "for letter in sorted(letter_count.keys(), key=letter_count.get, reverse=True):\n",
    "    print(letter, letter_count[letter])"
   ]
  },
  {
   "cell_type": "code",
   "execution_count": 73,
   "metadata": {},
   "outputs": [
    {
     "name": "stdout",
     "output_type": "stream",
     "text": [
      "4950\n"
     ]
    }
   ],
   "source": [
    "sum = 0\n",
    "for i in range(100):\n",
    "    sum += i\n",
    "print(sum)"
   ]
  },
  {
   "cell_type": "code",
   "execution_count": 75,
   "metadata": {},
   "outputs": [
    {
     "data": {
      "text/plain": [
       "[0, 1, 2, 3, 4]"
      ]
     },
     "execution_count": 75,
     "metadata": {},
     "output_type": "execute_result"
    }
   ],
   "source": [
    "list10 = list(range(5))\n",
    "list10"
   ]
  },
  {
   "cell_type": "code",
   "execution_count": 77,
   "metadata": {},
   "outputs": [
    {
     "name": "stdout",
     "output_type": "stream",
     "text": [
      "0 a\n",
      "1 b\n",
      "2 c\n",
      "3 d\n",
      "4 e\n",
      "5 f\n",
      "6 g\n",
      "7 h\n",
      "8 i\n",
      "9 j\n",
      "10 k\n",
      "11 l\n",
      "12 m\n",
      "13 n\n",
      "14 o\n",
      "15 p\n",
      "16 q\n",
      "17 r\n",
      "18 s\n",
      "19 t\n",
      "20 u\n",
      "21 v\n",
      "22 w\n",
      "23 x\n",
      "24 y\n",
      "25 z\n"
     ]
    }
   ],
   "source": [
    "for idx, letter in enumerate(alphabet): \n",
    "    print(idx, letter)"
   ]
  },
  {
   "cell_type": "code",
   "execution_count": 79,
   "metadata": {},
   "outputs": [
    {
     "name": "stdout",
     "output_type": "stream",
     "text": [
      "4950\n"
     ]
    }
   ],
   "source": [
    "sum, i = 0, 0\n",
    "while i < 100:\n",
    "    sum += i\n",
    "    i += 1\n",
    "print(sum)"
   ]
  },
  {
   "cell_type": "code",
   "execution_count": 81,
   "metadata": {},
   "outputs": [
    {
     "name": "stdout",
     "output_type": "stream",
     "text": [
      "5050\n"
     ]
    }
   ],
   "source": [
    "while True:\n",
    "    sum += i\n",
    "    i += 1\n",
    "    if i >= 100:\n",
    "        break\n",
    "print(sum)"
   ]
  },
  {
   "cell_type": "code",
   "execution_count": 85,
   "metadata": {},
   "outputs": [
    {
     "name": "stdout",
     "output_type": "stream",
     "text": [
      "Cleared the exception\n"
     ]
    }
   ],
   "source": [
    "try:\n",
    "    int(alphabet)\n",
    "    int('12.0')\n",
    "except:\n",
    "    pass\n",
    "print('Cleared the exception')"
   ]
  },
  {
   "cell_type": "code",
   "execution_count": 90,
   "metadata": {},
   "outputs": [
    {
     "name": "stdout",
     "output_type": "stream",
     "text": [
      "Caught a value error\n"
     ]
    }
   ],
   "source": [
    "try:\n",
    "    int(alphabet)\n",
    "    int('12.0')\n",
    "except ValueError:\n",
    "    print('Caught a value error')\n",
    "except TypeError:\n",
    "    print('Caught a type error!')"
   ]
  },
  {
   "cell_type": "code",
   "execution_count": 91,
   "metadata": {},
   "outputs": [],
   "source": [
    "def count_letters(text, lc=True):\n",
    "    letter_count = {}\n",
    "    if lc:\n",
    "        text = text.lower()\n",
    "    for letter in text:\n",
    "        if letter.lower() in alphabet:\n",
    "            if letter in letter_count:\n",
    "                letter_count[letter] += 1\n",
    "            else:\n",
    "                letter_count[letter] = 1\n",
    "    return letter_count"
   ]
  },
  {
   "cell_type": "code",
   "execution_count": 92,
   "metadata": {},
   "outputs": [
    {
     "data": {
      "text/plain": [
       "{'s': 10,\n",
       " 'i': 3,\n",
       " 'n': 6,\n",
       " 'g': 4,\n",
       " 'o': 8,\n",
       " 'd': 2,\n",
       " 'e': 9,\n",
       " 't': 6,\n",
       " 'h': 6,\n",
       " 'a': 6,\n",
       " 'r': 2,\n",
       " 'f': 2,\n",
       " 'c': 3,\n",
       " 'l': 6,\n",
       " 'p': 2,\n",
       " 'u': 4,\n",
       " 'b': 1}"
      ]
     },
     "execution_count": 92,
     "metadata": {},
     "output_type": "execute_result"
    }
   ],
   "source": [
    "count_letters(iliad, True)"
   ]
  },
  {
   "cell_type": "code",
   "execution_count": 96,
   "metadata": {},
   "outputs": [
    {
     "data": {
      "text/plain": [
       "[('', 'acress'),\n",
       " ('a', 'cress'),\n",
       " ('ac', 'ress'),\n",
       " ('acr', 'ess'),\n",
       " ('acre', 'ss'),\n",
       " ('acres', 's'),\n",
       " ('acress', '')]"
      ]
     },
     "execution_count": 96,
     "metadata": {},
     "output_type": "execute_result"
    }
   ],
   "source": [
    "word = 'acress'\n",
    "splits = [(word[:i], word[i:]) for i in range(len(word) + 1)]\n",
    "splits"
   ]
  },
  {
   "cell_type": "code",
   "execution_count": 98,
   "metadata": {},
   "outputs": [
    {
     "data": {
      "text/plain": [
       "['cress', 'aress', 'acess', 'acrss', 'acres', 'acres']"
      ]
     },
     "execution_count": 98,
     "metadata": {},
     "output_type": "execute_result"
    }
   ],
   "source": [
    "deletes = [a + b[1:] for a, b in splits if b]\n",
    "deletes"
   ]
  },
  {
   "cell_type": "code",
   "execution_count": 100,
   "metadata": {},
   "outputs": [
    {
     "data": {
      "text/plain": [
       "[('', 'acress'),\n",
       " ('a', 'cress'),\n",
       " ('ac', 'ress'),\n",
       " ('acr', 'ess'),\n",
       " ('acre', 'ss'),\n",
       " ('acres', 's'),\n",
       " ('acress', '')]"
      ]
     },
     "execution_count": 100,
     "metadata": {},
     "output_type": "execute_result"
    }
   ],
   "source": [
    "splits = []\n",
    "for i in range(len(word) + 1):\n",
    "    splits.append((word[:i], word[i:]))\n",
    "splits"
   ]
  },
  {
   "cell_type": "code",
   "execution_count": 104,
   "metadata": {},
   "outputs": [
    {
     "name": "stdout",
     "output_type": "stream",
     "text": [
      "('', 'acress')\n",
      "('a', 'cress')\n",
      "('ac', 'ress')\n",
      "('acr', 'ess')\n",
      "('acre', 'ss')\n",
      "('acres', 's')\n",
      "('acress', '')\n"
     ]
    }
   ],
   "source": [
    "splits_generator = ((word[:i], word[i:]) for i in range(len(word) + 1))\n",
    "for i in splits_generator: print(i)"
   ]
  },
  {
   "cell_type": "code",
   "execution_count": 105,
   "metadata": {},
   "outputs": [],
   "source": [
    "def splits_generator_function():\n",
    "    for i in range(len(word) + 1):\n",
    "        yield (word[:i], word[i:])"
   ]
  },
  {
   "cell_type": "code",
   "execution_count": 107,
   "metadata": {},
   "outputs": [
    {
     "data": {
      "text/plain": [
       "<generator object splits_generator_function at 0x7f984bc0b250>"
      ]
     },
     "execution_count": 107,
     "metadata": {},
     "output_type": "execute_result"
    }
   ],
   "source": [
    "splits_generator = splits_generator_function()"
   ]
  },
  {
   "cell_type": "code",
   "execution_count": 117,
   "metadata": {},
   "outputs": [
    {
     "data": {
      "text/plain": [
       "33"
      ]
     },
     "execution_count": 117,
     "metadata": {},
     "output_type": "execute_result"
    }
   ],
   "source": [
    "latin_alphabet = 'abcdefghijklmnopqrstuvwxyz'\n",
    "len(latin_alphabet) # 26\n",
    "greek_alphabet = 'αβγδεζηθικλμνξοπρστυφχψω'\n",
    "len(greek_alphabet) # 24\n",
    "cyrillic_alphabet = 'абвгдеёжзийклмнопрстуфхцчшщъыьэюя'\n",
    "len(cyrillic_alphabet) # 33"
   ]
  },
  {
   "cell_type": "code",
   "execution_count": 122,
   "metadata": {},
   "outputs": [],
   "source": [
    "la_gr = zip(latin_alphabet[:3], greek_alphabet[:3])\n",
    "\n",
    "la_gr_cy = zip(latin_alphabet[:3], greek_alphabet[:3], cyrillic_alphabet[0:3])"
   ]
  },
  {
   "cell_type": "code",
   "execution_count": 123,
   "metadata": {},
   "outputs": [
    {
     "data": {
      "text/plain": [
       "('c', 'γ')"
      ]
     },
     "execution_count": 123,
     "metadata": {},
     "output_type": "execute_result"
    }
   ],
   "source": [
    "la_gr.__next__()\n",
    "la_gr.__next__()\n",
    "la_gr.__next__()"
   ]
  },
  {
   "cell_type": "code",
   "execution_count": 124,
   "metadata": {},
   "outputs": [
    {
     "data": {
      "text/plain": [
       "[('a', 'α', 'а'), ('b', 'β', 'б'), ('c', 'γ', 'в')]"
      ]
     },
     "execution_count": 124,
     "metadata": {},
     "output_type": "execute_result"
    }
   ],
   "source": [
    "la_gr_cy_list = list(la_gr_cy)\n",
    "la_gr_cy_list"
   ]
  },
  {
   "cell_type": "code",
   "execution_count": 125,
   "metadata": {},
   "outputs": [
    {
     "data": {
      "text/plain": [
       "[]"
      ]
     },
     "execution_count": 125,
     "metadata": {},
     "output_type": "execute_result"
    }
   ],
   "source": [
    "la_gr_cy_list = list(la_gr_cy)\n",
    "la_gr_cy_list"
   ]
  },
  {
   "cell_type": "code",
   "execution_count": 126,
   "metadata": {},
   "outputs": [
    {
     "data": {
      "text/plain": [
       "<zip at 0x7f985c87a1e0>"
      ]
     },
     "execution_count": 126,
     "metadata": {},
     "output_type": "execute_result"
    }
   ],
   "source": [
    "zip(*la_gr_cy_list)"
   ]
  },
  {
   "cell_type": "code",
   "execution_count": 127,
   "metadata": {},
   "outputs": [
    {
     "data": {
      "text/plain": [
       "3.0"
      ]
     },
     "execution_count": 127,
     "metadata": {},
     "output_type": "execute_result"
    }
   ],
   "source": [
    "import math\n",
    "math.sqrt(2) # 1.4142135623730951\n",
    "math.sin(math.pi/2) # 1.0\n",
    "math.log(8, 2)"
   ]
  },
  {
   "cell_type": "code",
   "execution_count": 129,
   "metadata": {},
   "outputs": [
    {
     "data": {
      "text/plain": [
       "1.5811388300841898"
      ]
     },
     "execution_count": 129,
     "metadata": {},
     "output_type": "execute_result"
    }
   ],
   "source": [
    "import statistics as stats\n",
    "stats.mean([1, 2, 3, 4, 5])\n",
    "stats.stdev([1, 2, 3, 4, 5])"
   ]
  },
  {
   "cell_type": "code",
   "execution_count": 132,
   "metadata": {},
   "outputs": [
    {
     "name": "stdout",
     "output_type": "stream",
     "text": [
      "Running the program\n"
     ]
    }
   ],
   "source": [
    "if __name__ == '__main__':\n",
    "    print(\"Running the program\")\n",
    "    # Other statements\n",
    "else:\n",
    "    print(\"Importing the program\")\n",
    "#"
   ]
  },
  {
   "cell_type": "code",
   "execution_count": 135,
   "metadata": {},
   "outputs": [],
   "source": [
    "def fibonacci(n):\n",
    "    if n == 1: return 1\n",
    "    elif n == 2: return 1\n",
    "    else:\n",
    "        return fibonacci(n - 1) + fibonacci(n - 2)"
   ]
  },
  {
   "cell_type": "code",
   "execution_count": 136,
   "metadata": {},
   "outputs": [
    {
     "data": {
      "text/plain": [
       "55"
      ]
     },
     "execution_count": 136,
     "metadata": {},
     "output_type": "execute_result"
    }
   ],
   "source": [
    "fibonacci(10)"
   ]
  },
  {
   "cell_type": "code",
   "execution_count": 139,
   "metadata": {},
   "outputs": [],
   "source": [
    "f_numbers = {}\n",
    "def fibonacci2(n):\n",
    "    if n == 1: return 1\n",
    "    elif n == 2: return 1\n",
    "    elif n in f_numbers:\n",
    "        return f_numbers[n]\n",
    "    else:\n",
    "        f_numbers[n] = fibonacci2(n - 1) + fibonacci2(n - 2)\n",
    "        return f_numbers[n]"
   ]
  },
  {
   "cell_type": "code",
   "execution_count": 140,
   "metadata": {},
   "outputs": [
    {
     "data": {
      "text/plain": [
       "55"
      ]
     },
     "execution_count": 140,
     "metadata": {},
     "output_type": "execute_result"
    }
   ],
   "source": [
    "fibonacci2(10)"
   ]
  },
  {
   "cell_type": "code",
   "execution_count": 142,
   "metadata": {},
   "outputs": [],
   "source": [
    "def memo_function(f):\n",
    "    cache = {}\n",
    "    def memo(x):\n",
    "        if x in cache:\n",
    "            return cache[x]\n",
    "        else:\n",
    "            cache[x] = f(x)\n",
    "            return cache[x]\n",
    "    return memo"
   ]
  },
  {
   "cell_type": "code",
   "execution_count": 145,
   "metadata": {},
   "outputs": [],
   "source": [
    "fibonacci = memo_function(fibonacci)"
   ]
  },
  {
   "cell_type": "code",
   "execution_count": 148,
   "metadata": {},
   "outputs": [],
   "source": [
    "@memo_function\n",
    "def fibonacci(n):\n",
    "    if n == 1: return 1\n",
    "    elif n == 2: return 1\n",
    "    else:\n",
    "        return fibonacci(n - 1) + fibonacci(n - 2)"
   ]
  },
  {
   "cell_type": "code",
   "execution_count": 152,
   "metadata": {},
   "outputs": [],
   "source": [
    "class Text:\n",
    "    \"\"\"Text class to hold and process text\"\"\"\n",
    "    alphabet = 'abcdefghijklmnopqrstuvwxyz'\n",
    "    \n",
    "    def __init__(self, text=None):\n",
    "        \"\"\"The constructor called when an object is created\"\"\"\n",
    "        self.content = text\n",
    "        self.length = len(text)\n",
    "        self.letter_counts = {}\n",
    "    \n",
    "    def count_letters(self, lc=True):\n",
    "        \"\"\"Function to count the letters of a text\"\"\"\n",
    "        letter_counts = {}\n",
    "        if lc:\n",
    "            text = self.content.lower()\n",
    "        else:\n",
    "            text = self.content\n",
    "        for letter in text:\n",
    "            if letter.lower() in self.alphabet:\n",
    "                if letter in letter_counts:\n",
    "                    letter_counts[letter] += 1\n",
    "                else:\n",
    "                    letter_counts[letter] = 1\n",
    "        self.letter_counts = letter_counts\n",
    "        return letter_counts"
   ]
  },
  {
   "cell_type": "code",
   "execution_count": 153,
   "metadata": {},
   "outputs": [],
   "source": [
    "txt = Text(\"\"\"Tell me, O Muse, of that many-sided hero who\n",
    "traveled far and wide after he had sacked the famous town\n",
    "of Troy.\"\"\")"
   ]
  },
  {
   "cell_type": "code",
   "execution_count": 154,
   "metadata": {},
   "outputs": [
    {
     "data": {
      "text/plain": [
       "__main__.Text"
      ]
     },
     "execution_count": 154,
     "metadata": {},
     "output_type": "execute_result"
    }
   ],
   "source": [
    "type(txt)"
   ]
  },
  {
   "cell_type": "code",
   "execution_count": 156,
   "metadata": {},
   "outputs": [
    {
     "data": {
      "text/plain": [
       "111"
      ]
     },
     "execution_count": 156,
     "metadata": {},
     "output_type": "execute_result"
    }
   ],
   "source": [
    "txt.length"
   ]
  },
  {
   "cell_type": "code",
   "execution_count": 159,
   "metadata": {},
   "outputs": [],
   "source": [
    "class Word(Text):\n",
    "    def __init__(self, word=None):\n",
    "        super().__init__(word)\n",
    "        self.part_of_speech = None\n",
    "        \n",
    "    def annotate(self, part_of_speech):\n",
    "        self.part_of_speech = part_of_speech"
   ]
  },
  {
   "cell_type": "code",
   "execution_count": 160,
   "metadata": {},
   "outputs": [],
   "source": [
    "word = Word('Muse')"
   ]
  },
  {
   "cell_type": "code",
   "execution_count": 161,
   "metadata": {},
   "outputs": [
    {
     "data": {
      "text/plain": [
       "4"
      ]
     },
     "execution_count": 161,
     "metadata": {},
     "output_type": "execute_result"
    }
   ],
   "source": [
    "word.length"
   ]
  },
  {
   "cell_type": "code",
   "execution_count": 162,
   "metadata": {},
   "outputs": [
    {
     "data": {
      "text/plain": [
       "{'M': 1, 'u': 1, 's': 1, 'e': 1}"
      ]
     },
     "execution_count": 162,
     "metadata": {},
     "output_type": "execute_result"
    }
   ],
   "source": [
    "word.count_letters(lc = False)"
   ]
  },
  {
   "cell_type": "code",
   "execution_count": 165,
   "metadata": {},
   "outputs": [
    {
     "data": {
      "text/plain": [
       "'Noun'"
      ]
     },
     "execution_count": 165,
     "metadata": {},
     "output_type": "execute_result"
    }
   ],
   "source": [
    "word.annotate('Noun')\n",
    "word.part_of_speech"
   ]
  },
  {
   "cell_type": "code",
   "execution_count": 166,
   "metadata": {},
   "outputs": [],
   "source": [
    "odyssey = \"\"\"Tell me, O Muse, of that many-sided hero who\n",
    "traveled far and wide after he had sacked the famous town\n",
    "of Troy.\"\"\""
   ]
  },
  {
   "cell_type": "code",
   "execution_count": 167,
   "metadata": {},
   "outputs": [
    {
     "data": {
      "text/plain": [
       "[100, 111]"
      ]
     },
     "execution_count": 167,
     "metadata": {},
     "output_type": "execute_result"
    }
   ],
   "source": [
    "text_lengths = map(len, [iliad, odyssey])\n",
    "list(text_lengths)"
   ]
  },
  {
   "cell_type": "code",
   "execution_count": 170,
   "metadata": {},
   "outputs": [
    {
     "data": {
      "text/plain": [
       "'ioeeaeoieooeeuaououeiuoeaea'"
      ]
     },
     "execution_count": 170,
     "metadata": {},
     "output_type": "execute_result"
    }
   ],
   "source": [
    "''.join(filter(lambda x : x in 'aeiou', iliad))"
   ]
  },
  {
   "cell_type": "code",
   "execution_count": null,
   "metadata": {},
   "outputs": [],
   "source": []
  }
 ],
 "metadata": {
  "kernelspec": {
   "display_name": "Python 3",
   "language": "python",
   "name": "python3"
  },
  "language_info": {
   "codemirror_mode": {
    "name": "ipython",
    "version": 3
   },
   "file_extension": ".py",
   "mimetype": "text/x-python",
   "name": "python",
   "nbconvert_exporter": "python",
   "pygments_lexer": "ipython3",
   "version": "3.7.5"
  }
 },
 "nbformat": 4,
 "nbformat_minor": 2
}
