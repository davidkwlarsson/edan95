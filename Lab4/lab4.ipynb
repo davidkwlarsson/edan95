{
 "cells": [
  {
   "cell_type": "markdown",
   "metadata": {},
   "source": [
    "# EDAN95 - Applied Machine Learning\n",
    "### LTH Fall 2019"
   ]
  },
  {
   "cell_type": "markdown",
   "metadata": {},
   "source": [
    "# Lab 4\n",
    "### David Larsson & Jonas Lundgren"
   ]
  },
  {
   "cell_type": "markdown",
   "metadata": {},
   "source": [
    "### GloVe embeddings"
   ]
  },
  {
   "cell_type": "code",
   "execution_count": 2,
   "metadata": {},
   "outputs": [
    {
     "name": "stderr",
     "output_type": "stream",
     "text": [
      "Using TensorFlow backend.\n"
     ]
    }
   ],
   "source": [
    "import numpy as np\n",
    "import matplotlib.pyplot as plt\n",
    "import collections\n",
    "from keras.preprocessing.sequence import pad_sequences\n",
    "from keras.utils import to_categorical"
   ]
  },
  {
   "cell_type": "code",
   "execution_count": 3,
   "metadata": {},
   "outputs": [],
   "source": [
    "def read_GloVe(path = \"data/glove.6B.100d.txt\"):\n",
    "    \"\"\"\n",
    "    Function that reads GloVe embeddings and returns a dictionary, \n",
    "    where the keys will be the words and the values, the embeddings.\n",
    "    \"\"\"\n",
    "    d = {}\n",
    "    with open(path) as f:\n",
    "        for embeddings in f:\n",
    "            embeddings_list = embeddings.split()\n",
    "            d[embeddings_list[0]] = np.array([float(i) for i in embeddings_list[1:]])\n",
    "            \n",
    "    return d"
   ]
  },
  {
   "cell_type": "code",
   "execution_count": 4,
   "metadata": {},
   "outputs": [],
   "source": [
    "glove_dict = read_GloVe()"
   ]
  },
  {
   "cell_type": "code",
   "execution_count": 5,
   "metadata": {},
   "outputs": [],
   "source": [
    "def cosine_sim(word, glove_dict = glove_dict, num_closest = 5):\n",
    "    \"\"\"\n",
    "    Using a cosine similarity, computes the num_closest \n",
    "    closest words to word in glove_dict\n",
    "    \"\"\"\n",
    "    A = glove_dict[str(word)]\n",
    "    A_norm = np.linalg.norm(A, 2)\n",
    "    \n",
    "    cos_sims = np.zeros(len(glove_dict))\n",
    "    \n",
    "    for i, (k, v) in enumerate(glove_dict.items()):\n",
    "        if k != word:\n",
    "            B = v\n",
    "            B_norm = np.linalg.norm(B, 2)\n",
    "    \n",
    "            cos_sim = A.dot(B) / (A_norm * B_norm)\n",
    "            cos_sims[i] = cos_sim\n",
    "    \n",
    "    max_idxs = list(cos_sims.argsort()[-num_closest:])\n",
    "    \n",
    "    return [list(glove_dict.keys())[i] for i in max_idxs]"
   ]
  },
  {
   "cell_type": "code",
   "execution_count": 6,
   "metadata": {},
   "outputs": [
    {
     "name": "stdout",
     "output_type": "stream",
     "text": [
      "Closest 5 words to table : ['side', 'room', 'bottom', 'place', 'tables']\n",
      "Closest 5 words to table : ['paris', 'spain', 'britain', 'french', 'belgium']\n",
      "Closest 5 words to table : ['austria', 'netherlands', 'finland', 'norway', 'denmark']\n"
     ]
    }
   ],
   "source": [
    "print(\"Closest 5 words to table :\", cosine_sim('table'))\n",
    "print(\"Closest 5 words to table :\", cosine_sim('france'))\n",
    "print(\"Closest 5 words to table :\", cosine_sim('sweden'))"
   ]
  },
  {
   "cell_type": "markdown",
   "metadata": {},
   "source": [
    "## Load Files"
   ]
  },
  {
   "cell_type": "code",
   "execution_count": 8,
   "metadata": {},
   "outputs": [],
   "source": [
    "BASE_DIR = r'/home/jonas/projects/edan95/Lab4/data'\n",
    "\n",
    "\n",
    "def load_conll2003_en():\n",
    "    train_file = BASE_DIR + '/eng.train'\n",
    "    dev_file = BASE_DIR + '/eng.valid'\n",
    "    test_file = BASE_DIR + '/eng.test'\n",
    "    column_names = ['form', 'ppos', 'pchunk', 'ner']\n",
    "    train_sentences = open(train_file).read().strip()\n",
    "    dev_sentences = open(dev_file).read().strip()\n",
    "    test_sentences = open(test_file).read().strip()\n",
    "    return train_sentences, dev_sentences, test_sentences, column_names"
   ]
  },
  {
   "cell_type": "code",
   "execution_count": 9,
   "metadata": {},
   "outputs": [],
   "source": [
    "train_sentences, dev_sentences, test_sentences, column_names = load_conll2003_en()"
   ]
  },
  {
   "cell_type": "markdown",
   "metadata": {},
   "source": [
    "Code from course github: https://github.com/pnugues/edan95/"
   ]
  },
  {
   "cell_type": "code",
   "execution_count": 10,
   "metadata": {},
   "outputs": [],
   "source": [
    "import re\n",
    "\n",
    "class Token(dict):\n",
    "    pass\n",
    "\n",
    "class CoNLLDictorizer:\n",
    "\n",
    "    def __init__(self, column_names, sent_sep='\\n\\n', col_sep=' +'):\n",
    "        self.column_names = column_names\n",
    "        self.sent_sep = sent_sep\n",
    "        self.col_sep = col_sep\n",
    "\n",
    "    def fit(self):\n",
    "        pass\n",
    "\n",
    "    def transform(self, corpus):\n",
    "        corpus = corpus.strip()\n",
    "        sentences = re.split(self.sent_sep, corpus)\n",
    "        return list(map(self._split_in_words, sentences))\n",
    "\n",
    "    def fit_transform(self, corpus):\n",
    "        return self.transform(corpus)\n",
    "\n",
    "    def _split_in_words(self, sentence):\n",
    "        rows = re.split('\\n', sentence)\n",
    "        rows = [row for row in rows if row[0] != '#']\n",
    "        return [Token(dict(zip(self.column_names,\n",
    "                               re.split(self.col_sep, row))))\n",
    "                for row in rows]"
   ]
  },
  {
   "cell_type": "code",
   "execution_count": 11,
   "metadata": {},
   "outputs": [],
   "source": [
    "conll_dict = CoNLLDictorizer(column_names, col_sep=' +')\n",
    "train_dict = conll_dict.transform(train_sentences)\n",
    "dev_dict = conll_dict.transform(dev_sentences)\n",
    "test_dict = conll_dict.transform(test_sentences)"
   ]
  },
  {
   "cell_type": "markdown",
   "metadata": {},
   "source": [
    "Named-entity recognition (NER) tags"
   ]
  },
  {
   "cell_type": "code",
   "execution_count": 12,
   "metadata": {
    "scrolled": false
   },
   "outputs": [
    {
     "data": {
      "text/plain": [
       "[{'form': '-DOCSTART-', 'ppos': '-X-', 'pchunk': 'O', 'ner': 'O'}]"
      ]
     },
     "execution_count": 12,
     "metadata": {},
     "output_type": "execute_result"
    }
   ],
   "source": [
    "train_dict[0]"
   ]
  },
  {
   "cell_type": "code",
   "execution_count": 13,
   "metadata": {},
   "outputs": [],
   "source": [
    "def build_sequences(corpus_dict, key_x='form', key_y='ner', tolower=True):\n",
    "    \"\"\"\n",
    "    Creates sequences from a list of dictionaries\n",
    "    :param corpus_dict:\n",
    "    :param key_x:\n",
    "    :param key_y:\n",
    "    :return: X, Y\n",
    "    \"\"\"\n",
    "    X = []\n",
    "    Y = []\n",
    "    for sentence in corpus_dict:\n",
    "        x = []\n",
    "        y = []\n",
    "        for word in sentence:\n",
    "            x += [word[key_x]]\n",
    "            y += [word[key_y]]\n",
    "        if tolower:\n",
    "            x = list(map(str.lower, x))\n",
    "        X += [x]\n",
    "        Y += [y]\n",
    "    return X, Y"
   ]
  },
  {
   "cell_type": "markdown",
   "metadata": {},
   "source": [
    "Should correspond with index 1 in X"
   ]
  },
  {
   "cell_type": "code",
   "execution_count": 14,
   "metadata": {},
   "outputs": [
    {
     "name": "stdout",
     "output_type": "stream",
     "text": [
      "['eu', 'rejects', 'german', 'call', 'to', 'boycott', 'british', 'lamb', '.']\n",
      "['I-ORG', 'O', 'I-MISC', 'O', 'O', 'O', 'I-MISC', 'O', 'O']\n"
     ]
    }
   ],
   "source": [
    "X_train_cat, Y_train_cat = build_sequences(train_dict)\n",
    "X_dev_cat, Y_dev_cat = build_sequences(dev_dict)\n",
    "X_test_cat, Y_test_cat = build_sequences(test_dict)\n",
    "print(X_train_cat[1])\n",
    "print(Y_train_cat[1])"
   ]
  },
  {
   "cell_type": "code",
   "execution_count": 15,
   "metadata": {},
   "outputs": [
    {
     "name": "stdout",
     "output_type": "stream",
     "text": [
      "['!', '\"', '$', '%', '&', \"'\", \"'d\", \"'ll\", \"'m\", \"'re\"]\n",
      "['B-LOC', 'B-MISC', 'B-ORG', 'I-LOC', 'I-MISC', 'I-ORG', 'I-PER', 'O']\n"
     ]
    }
   ],
   "source": [
    "vocabulary_words = sorted(list(set([word for sentence in X_train_cat for word in sentence])))\n",
    "ner = sorted(list(set([ner for sentence in Y_train_cat for ner in sentence])))\n",
    "\n",
    "print(vocabulary_words[:10])\n",
    "print(ner)"
   ]
  },
  {
   "cell_type": "code",
   "execution_count": 16,
   "metadata": {},
   "outputs": [
    {
     "data": {
      "text/plain": [
       "['!', '!!', '!!!', '!!!!', '!!!!!', '!?', '!?!', '\"', '#', '##']"
      ]
     },
     "execution_count": 16,
     "metadata": {},
     "output_type": "execute_result"
    }
   ],
   "source": [
    "embeddings_words = sorted(glove_dict.keys())\n",
    "embeddings_words[:10]"
   ]
  },
  {
   "cell_type": "code",
   "execution_count": 17,
   "metadata": {},
   "outputs": [
    {
     "data": {
      "text/plain": [
       "['!', '!!', '!!!', '!!!!', '!!!!!', '!?', '!?!', '\"', '#', '##']"
      ]
     },
     "execution_count": 17,
     "metadata": {},
     "output_type": "execute_result"
    }
   ],
   "source": [
    "vocabulary_words = sorted(list(set(vocabulary_words + embeddings_words)))\n",
    "vocabulary_words[:10]"
   ]
  },
  {
   "cell_type": "code",
   "execution_count": 18,
   "metadata": {},
   "outputs": [],
   "source": [
    "tok_words_reversed = dict(enumerate(vocabulary_words, start=2))\n",
    "#0 reserved for padding\n",
    "#1 reserved for words with unknown ner tag\n",
    "tok_ners_reversed = dict(enumerate(ner, start=2))"
   ]
  },
  {
   "cell_type": "code",
   "execution_count": 19,
   "metadata": {},
   "outputs": [
    {
     "name": "stdout",
     "output_type": "stream",
     "text": [
      "word index: [('!', 2), ('!!', 3), ('!!!', 4), ('!!!!', 5), ('!!!!!', 6), ('!?', 7), ('!?!', 8), ('\"', 9), ('#', 10), ('##', 11)]\n",
      "\n",
      "NER index: [('B-LOC', 2), ('B-MISC', 3), ('B-ORG', 4), ('I-LOC', 5), ('I-MISC', 6), ('I-ORG', 7), ('I-PER', 8), ('O', 9)]\n"
     ]
    }
   ],
   "source": [
    "tokenized_words = {v: k for k, v in tok_words_reversed.items()}\n",
    "tokenized_ners = {v: k for k, v in tok_ners_reversed.items()}\n",
    "\n",
    "print('word index:', list(tokenized_words.items())[:10])\n",
    "print('\\nNER index:', list(tokenized_ners.items())[:10])"
   ]
  },
  {
   "cell_type": "code",
   "execution_count": 20,
   "metadata": {},
   "outputs": [],
   "source": [
    "def sentences_to_idx(X, tokenized_x):\n",
    "    X_idxs = []\n",
    "    for sentence in X:\n",
    "        #Map unknowns to 1\n",
    "        X_idxs.append([tokenized_x[x] if x in tokenized_x else 1 for x in sentence])\n",
    "        \n",
    "    return X_idxs"
   ]
  },
  {
   "cell_type": "code",
   "execution_count": 21,
   "metadata": {
    "scrolled": false
   },
   "outputs": [],
   "source": [
    "X_idx = sentences_to_idx(X_train_cat, tokenized_words)\n",
    "Y_idx = sentences_to_idx(Y_train_cat, tokenized_ners)\n",
    "\n",
    "X_idx_dev = sentences_to_idx(X_dev_cat, tokenized_words)\n",
    "Y_idx_dev = sentences_to_idx(Y_dev_cat, tokenized_ners)\n",
    "\n",
    "X_idx_test = sentences_to_idx(X_test_cat, tokenized_words)\n",
    "Y_idx_test = sentences_to_idx(Y_test_cat, tokenized_ners)"
   ]
  },
  {
   "cell_type": "code",
   "execution_count": 22,
   "metadata": {},
   "outputs": [],
   "source": [
    "max_len = 150"
   ]
  },
  {
   "cell_type": "code",
   "execution_count": 23,
   "metadata": {},
   "outputs": [
    {
     "name": "stdout",
     "output_type": "stream",
     "text": [
      "(14987, 150)\n",
      "(14987, 150)\n"
     ]
    }
   ],
   "source": [
    "X = pad_sequences(X_idx, maxlen = max_len)\n",
    "Y = pad_sequences(Y_idx, maxlen = max_len)\n",
    "\n",
    "print(X.shape)\n",
    "print(Y.shape)"
   ]
  },
  {
   "cell_type": "code",
   "execution_count": 24,
   "metadata": {},
   "outputs": [],
   "source": [
    "X_dev = pad_sequences(X_idx_dev, maxlen = max_len)\n",
    "Y_dev = pad_sequences(Y_idx_dev, maxlen = max_len)\n",
    "\n",
    "X_test = pad_sequences(X_idx_test, maxlen = max_len)\n",
    "Y_test = pad_sequences(Y_idx_test, maxlen = max_len)"
   ]
  },
  {
   "cell_type": "code",
   "execution_count": 25,
   "metadata": {},
   "outputs": [],
   "source": [
    "Y_train = to_categorical(Y, num_classes = len(ner) + 2)\n",
    "Y_dev = to_categorical(Y_dev, num_classes = len(ner) + 2)\n",
    "Y_test = to_categorical(Y_test, num_classes = len(ner) + 2)"
   ]
  },
  {
   "cell_type": "markdown",
   "metadata": {},
   "source": [
    "An example of how the padding works."
   ]
  },
  {
   "cell_type": "code",
   "execution_count": 26,
   "metadata": {},
   "outputs": [
    {
     "data": {
      "text/plain": [
       "array([     0,      0,      0,      0,      0,      0,      0,      0,\n",
       "            0,      0,      0,      0,      0,      0,      0,      0,\n",
       "            0,      0,      0,      0,      0,      0,      0,      0,\n",
       "            0,      0,      0,      0,      0,      0,      0,      0,\n",
       "            0,      0,      0,      0,      0,      0,      0,      0,\n",
       "            0,      0,      0,      0,      0,      0,      0,      0,\n",
       "            0,      0,      0,      0,      0,      0,      0,      0,\n",
       "            0,      0,      0,      0,      0,      0,      0,      0,\n",
       "            0,      0,      0,      0,      0,      0,      0,      0,\n",
       "            0,      0,      0,      0,      0,      0,      0,      0,\n",
       "            0,      0,      0,      0,      0,      0,      0,      0,\n",
       "            0,      0,      0,      0,      0,      0,      0,      0,\n",
       "            0,      0,      0,      0,      0,      0,      0,      0,\n",
       "            0,      0,      0,      0,      0,      0,      0,      0,\n",
       "            0,      0,      0,      0,      0,      0,      0,      0,\n",
       "            0,      0,      0,      0,      0,      0,      0,      0,\n",
       "            0,      0,      0,      0,      0,      0,      0,      0,\n",
       "            0,      0,      0,      0,      0, 142143, 307143, 161836,\n",
       "        91321, 363368,  83766,  85852, 218260,    936], dtype=int32)"
      ]
     },
     "execution_count": 26,
     "metadata": {},
     "output_type": "execute_result"
    }
   ],
   "source": [
    "X[1]"
   ]
  },
  {
   "cell_type": "code",
   "execution_count": 27,
   "metadata": {},
   "outputs": [
    {
     "data": {
      "text/plain": [
       "array([0, 0, 0, 0, 0, 0, 0, 0, 0, 0, 0, 0, 0, 0, 0, 0, 0, 0, 0, 0, 0, 0,\n",
       "       0, 0, 0, 0, 0, 0, 0, 0, 0, 0, 0, 0, 0, 0, 0, 0, 0, 0, 0, 0, 0, 0,\n",
       "       0, 0, 0, 0, 0, 0, 0, 0, 0, 0, 0, 0, 0, 0, 0, 0, 0, 0, 0, 0, 0, 0,\n",
       "       0, 0, 0, 0, 0, 0, 0, 0, 0, 0, 0, 0, 0, 0, 0, 0, 0, 0, 0, 0, 0, 0,\n",
       "       0, 0, 0, 0, 0, 0, 0, 0, 0, 0, 0, 0, 0, 0, 0, 0, 0, 0, 0, 0, 0, 0,\n",
       "       0, 0, 0, 0, 0, 0, 0, 0, 0, 0, 0, 0, 0, 0, 0, 0, 0, 0, 0, 0, 0, 0,\n",
       "       0, 0, 0, 0, 0, 0, 0, 0, 0, 7, 9, 6, 9, 9, 9, 6, 9, 9], dtype=int32)"
      ]
     },
     "execution_count": 27,
     "metadata": {},
     "output_type": "execute_result"
    }
   ],
   "source": [
    "Y[1]"
   ]
  },
  {
   "cell_type": "code",
   "execution_count": 36,
   "metadata": {},
   "outputs": [
    {
     "data": {
      "text/plain": [
       "array([0, 0, 0, 0, 0, 0, 0, 0, 0, 0, 0, 0, 0, 0, 0, 0, 0, 0, 0, 0, 0, 0,\n",
       "       0, 0, 0, 0, 0, 0, 0, 0, 0, 0, 0, 0, 0, 0, 0, 0, 0, 0, 0, 0, 0, 0,\n",
       "       0, 0, 0, 0, 0, 0, 0, 0, 0, 0, 0, 0, 0, 0, 0, 0, 0, 0, 0, 0, 0, 0,\n",
       "       0, 0, 0, 0, 0, 0, 0, 0, 0, 0, 0, 0, 0, 0, 0, 0, 0, 0, 0, 0, 0, 0,\n",
       "       0, 0, 0, 0, 0, 0, 0, 0, 0, 0, 0, 0, 0, 0, 0, 0, 0, 0, 0, 0, 0, 0,\n",
       "       0, 0, 0, 0, 0, 0, 0, 0, 0, 0, 0, 0, 0, 0, 0, 0, 0, 0, 0, 0, 0, 0,\n",
       "       0, 0, 0, 0, 0, 0, 0, 0, 0, 0, 0, 0, 0, 0, 0, 0, 8, 8], dtype=int32)"
      ]
     },
     "execution_count": 36,
     "metadata": {},
     "output_type": "execute_result"
    }
   ],
   "source": [
    "Y[2]"
   ]
  },
  {
   "cell_type": "markdown",
   "metadata": {},
   "source": [
    "Take a look at the distribution of the targets. Just counting the number of 0-9s in all Y vectors."
   ]
  },
  {
   "cell_type": "code",
   "execution_count": 41,
   "metadata": {},
   "outputs": [],
   "source": [
    "y_counts = np.zeros(10)\n",
    "for y in Y:\n",
    "    y_counts += np.bincount(y, minlength = 10)\n",
    "\n",
    "y_counts"
   ]
  },
  {
   "cell_type": "code",
   "execution_count": 51,
   "metadata": {},
   "outputs": [
    {
     "data": {
      "image/png": "[encoded data removed]",
      "text/plain": [
       "<Figure size 432x288 with 1 Axes>"
      ]
     },
     "metadata": {
      "needs_background": "light"
     },
     "output_type": "display_data"
    }
   ],
   "source": [
    "plt.bar(range(len(y_counts)), y_counts);\n",
    "plt.xticks(range(len(y_counts)), [0, 1] + ner, rotation=-45);"
   ]
  },
  {
   "cell_type": "markdown",
   "metadata": {},
   "source": [
    "We see that the distribution is skewed."
   ]
  },
  {
   "cell_type": "markdown",
   "metadata": {},
   "source": [
    "## Building the Embedding Matrix"
   ]
  },
  {
   "cell_type": "code",
   "execution_count": 29,
   "metadata": {},
   "outputs": [],
   "source": [
    "EMBEDDINGS_DIM = len(glove_dict[list(glove_dict.keys())[0]])\n",
    "\n",
    "embedding_matrix = np.random.randn(len(vocabulary_words) + 2, EMBEDDINGS_DIM)"
   ]
  },
  {
   "cell_type": "code",
   "execution_count": 30,
   "metadata": {},
   "outputs": [],
   "source": [
    "for word in vocabulary_words:\n",
    "    if word in glove_dict:\n",
    "        embedding_matrix[tokenized_words[word]] = glove_dict[word]"
   ]
  },
  {
   "cell_type": "markdown",
   "metadata": {},
   "source": [
    "## Saving for conlleval"
   ]
  },
  {
   "cell_type": "code",
   "execution_count": 31,
   "metadata": {},
   "outputs": [],
   "source": [
    "def save(file, corpus_dict, ner, y_preds, y_reals):\n",
    "    \n",
    "    with open(file, 'w', encoding='utf8') as f_out:\n",
    "        for i, sentence in enumerate(corpus_dict):\n",
    "            sentence_lst = []\n",
    "            for j, row in enumerate(sentence):\n",
    "                items = str(row.get('form')) + ' ' + str(ner[y_reals[i][j]- 2]) + ' ' + str(ner[y_preds[i][j] - 2])\n",
    "                sentence_lst += items + '\\n'\n",
    "            sentence_lst += '\\n'\n",
    "            f_out.write(''.join(sentence_lst))"
   ]
  },
  {
   "cell_type": "markdown",
   "metadata": {},
   "source": [
    "## Building a Simple Recurrent Neural Network"
   ]
  },
  {
   "cell_type": "code",
   "execution_count": 32,
   "metadata": {},
   "outputs": [],
   "source": [
    "from keras.models import Sequential\n",
    "from keras.layers import Dense, Embedding, SimpleRNN, LSTM, Dropout\n",
    "from keras import optimizers"
   ]
  },
  {
   "cell_type": "code",
   "execution_count": 33,
   "metadata": {},
   "outputs": [
    {
     "name": "stdout",
     "output_type": "stream",
     "text": [
      "Model: \"sequential_1\"\n",
      "_________________________________________________________________\n",
      "Layer (type)                 Output Shape              Param #   \n",
      "=================================================================\n",
      "embedding_1 (Embedding)      (None, 150, 100)          40259700  \n",
      "_________________________________________________________________\n",
      "simple_rnn_1 (SimpleRNN)     (None, 150, 100)          20100     \n",
      "_________________________________________________________________\n",
      "dense_1 (Dense)              (None, 150, 10)           1010      \n",
      "=================================================================\n",
      "Total params: 40,280,810\n",
      "Trainable params: 40,280,810\n",
      "Non-trainable params: 0\n",
      "_________________________________________________________________\n"
     ]
    }
   ],
   "source": [
    "model = Sequential()\n",
    "model.add(Embedding(len(vocabulary_words) + 2, \n",
    "                    EMBEDDINGS_DIM, \n",
    "                    input_length = max_len, \n",
    "                    mask_zero = True))\n",
    "model.add(SimpleRNN(EMBEDDINGS_DIM, return_sequences = True))\n",
    "model.add(Dense(units = len(ner) + 2, activation = 'softmax'))\n",
    "\n",
    "model.layers[0].set_weights([embedding_matrix])\n",
    "model.layers[0].trainable = True\n",
    "\n",
    "model.summary()"
   ]
  },
  {
   "cell_type": "code",
   "execution_count": 34,
   "metadata": {},
   "outputs": [],
   "source": [
    "model.compile(optimizer = optimizers.RMSprop(),\n",
    "              loss = 'categorical_crossentropy',\n",
    "              metrics = ['acc'])"
   ]
  },
  {
   "cell_type": "code",
   "execution_count": 35,
   "metadata": {},
   "outputs": [
    {
     "name": "stderr",
     "output_type": "stream",
     "text": [
      "/home/jonas/anaconda3/lib/python3.7/site-packages/tensorflow_core/python/framework/indexed_slices.py:424: UserWarning: Converting sparse IndexedSlices to a dense Tensor of unknown shape. This may consume a large amount of memory.\n",
      "  \"Converting sparse IndexedSlices to a dense Tensor of unknown shape. \"\n"
     ]
    },
    {
     "name": "stdout",
     "output_type": "stream",
     "text": [
      "Train on 14987 samples, validate on 3466 samples\n",
      "Epoch 1/5\n",
      "14987/14987 [==============================] - 43s 3ms/step - loss: 0.0474 - acc: 0.8539 - val_loss: 0.0309 - val_acc: 0.9052\n",
      "Epoch 2/5\n",
      "14987/14987 [==============================] - 42s 3ms/step - loss: 0.0217 - acc: 0.9295 - val_loss: 0.0214 - val_acc: 0.9350\n",
      "Epoch 3/5\n",
      "14987/14987 [==============================] - 38s 3ms/step - loss: 0.0164 - acc: 0.9457 - val_loss: 0.0195 - val_acc: 0.9428\n",
      "Epoch 4/5\n",
      "14987/14987 [==============================] - 37s 2ms/step - loss: 0.0138 - acc: 0.9538 - val_loss: 0.0165 - val_acc: 0.9503\n",
      "Epoch 5/5\n",
      "14987/14987 [==============================] - 41s 3ms/step - loss: 0.0121 - acc: 0.9589 - val_loss: 0.0161 - val_acc: 0.9523\n"
     ]
    }
   ],
   "source": [
    "retrain_model = True\n",
    "if retrain_model:\n",
    "    history = model.fit(X, Y_train,\n",
    "                    epochs = 5,\n",
    "                    batch_size = 256,\n",
    "                    validation_data = (X_dev, Y_dev))"
   ]
  },
  {
   "cell_type": "code",
   "execution_count": 36,
   "metadata": {
    "scrolled": false
   },
   "outputs": [],
   "source": [
    "if retrain_model:\n",
    "    model.save_weights('model_1_lab4.model')\n",
    "else:\n",
    "    model.load_weights('model_1_lab4.model')"
   ]
  },
  {
   "cell_type": "code",
   "execution_count": 37,
   "metadata": {},
   "outputs": [
    {
     "data": {
      "image/png": "[encoded data removed]",
      "text/plain": [
       "<Figure size 432x288 with 1 Axes>"
      ]
     },
     "metadata": {
      "needs_background": "light"
     },
     "output_type": "display_data"
    },
    {
     "data": {
      "image/png": "[encoded data removed]",
      "text/plain": [
       "<Figure size 432x288 with 1 Axes>"
      ]
     },
     "metadata": {
      "needs_background": "light"
     },
     "output_type": "display_data"
    }
   ],
   "source": [
    "acc = history.history['acc']\n",
    "val_acc = history.history['val_acc']\n",
    "loss = history.history['loss']\n",
    "val_loss = history.history['val_loss']\n",
    "\n",
    "epochs = range(1, len(acc) + 1)\n",
    "\n",
    "plt.plot(epochs, acc, 'bo', label = 'Training acc')\n",
    "plt.plot(epochs, val_acc, 'b', label = 'Validation acc')\n",
    "plt.title('Training and Validaion accuracy')\n",
    "plt.legend()\n",
    "\n",
    "plt.figure()\n",
    "\n",
    "plt.plot(epochs, loss, 'bo', label = 'Training loss')\n",
    "plt.plot(epochs, val_loss, 'b', label = 'Validation loss')\n",
    "plt.title('Training and Validaion loss')\n",
    "plt.legend()\n",
    "\n",
    "plt.show()"
   ]
  },
  {
   "cell_type": "code",
   "execution_count": 38,
   "metadata": {},
   "outputs": [
    {
     "name": "stdout",
     "output_type": "stream",
     "text": [
      "3684/3684 [==============================] - 1s 404us/step\n"
     ]
    }
   ],
   "source": [
    "test_loss, test_acc = model.evaluate(X_test, Y_test)"
   ]
  },
  {
   "cell_type": "code",
   "execution_count": 39,
   "metadata": {},
   "outputs": [
    {
     "name": "stdout",
     "output_type": "stream",
     "text": [
      "Test loss : 0.01772723544892591\n",
      "Test acc  : 0.9332062005996704\n"
     ]
    }
   ],
   "source": [
    "print(\"Test loss :\", test_loss)\n",
    "print(\"Test acc  :\", test_acc)"
   ]
  },
  {
   "cell_type": "code",
   "execution_count": 40,
   "metadata": {},
   "outputs": [],
   "source": [
    "Y_pred = model.predict(X_test)\n",
    "Y_preds = np.argmax(Y_pred, axis = 2)"
   ]
  },
  {
   "cell_type": "code",
   "execution_count": 41,
   "metadata": {},
   "outputs": [
    {
     "data": {
      "text/plain": [
       "(3684, 150)"
      ]
     },
     "execution_count": 41,
     "metadata": {},
     "output_type": "execute_result"
    }
   ],
   "source": [
    "np.shape(np.argmax(Y_test, axis = 2))"
   ]
  },
  {
   "cell_type": "code",
   "execution_count": 42,
   "metadata": {},
   "outputs": [],
   "source": [
    "Y_test_ = [y[y != 0.] for y in np.argmax(Y_test, axis = 2)]\n",
    "Y_pred_ = [y_hat[y != 0.] for y, y_hat in zip(np.argmax(Y_test, axis = 2), Y_preds)]"
   ]
  },
  {
   "cell_type": "code",
   "execution_count": 43,
   "metadata": {},
   "outputs": [
    {
     "name": "stdout",
     "output_type": "stream",
     "text": [
      "True values      : [9 9 5 9 9 9 9 8 9 9 9 9]\n",
      "Predicted values : [9 9 5 9 9 9 9 5 9 9 9 9]\n"
     ]
    }
   ],
   "source": [
    "print(\"True values      :\", Y_test_[1])\n",
    "print(\"Predicted values :\", Y_pred_[1])"
   ]
  },
  {
   "cell_type": "code",
   "execution_count": 44,
   "metadata": {},
   "outputs": [],
   "source": [
    "save(\"output1.txt\", test_dict, ner, Y_test_, Y_pred_)"
   ]
  },
  {
   "cell_type": "markdown",
   "metadata": {},
   "source": [
    "## LSTM"
   ]
  },
  {
   "cell_type": "code",
   "execution_count": 45,
   "metadata": {},
   "outputs": [
    {
     "name": "stdout",
     "output_type": "stream",
     "text": [
      "Model: \"sequential_2\"\n",
      "_________________________________________________________________\n",
      "Layer (type)                 Output Shape              Param #   \n",
      "=================================================================\n",
      "embedding_2 (Embedding)      (None, 150, 100)          40259700  \n",
      "_________________________________________________________________\n",
      "lstm_1 (LSTM)                (None, 150, 100)          80400     \n",
      "_________________________________________________________________\n",
      "dropout_1 (Dropout)          (None, 150, 100)          0         \n",
      "_________________________________________________________________\n",
      "dense_2 (Dense)              (None, 150, 10)           1010      \n",
      "=================================================================\n",
      "Total params: 40,341,110\n",
      "Trainable params: 40,341,110\n",
      "Non-trainable params: 0\n",
      "_________________________________________________________________\n"
     ]
    }
   ],
   "source": [
    "model2 = Sequential()\n",
    "model2.add(Embedding(len(vocabulary_words) + 2, \n",
    "                    EMBEDDINGS_DIM, \n",
    "                    input_length = max_len, \n",
    "                    mask_zero = True))\n",
    "model2.add(LSTM(EMBEDDINGS_DIM, return_sequences = True))\n",
    "model2.add(Dropout(0.5))\n",
    "model2.add(Dense(units = len(ner) + 2, activation = 'softmax'))\n",
    "\n",
    "model2.layers[0].set_weights([embedding_matrix])\n",
    "model2.layers[0].trainable = True\n",
    "\n",
    "model2.summary()"
   ]
  },
  {
   "cell_type": "code",
   "execution_count": 46,
   "metadata": {},
   "outputs": [],
   "source": [
    "model2.compile(optimizer = optimizers.RMSprop(),\n",
    "              loss = 'categorical_crossentropy',\n",
    "              metrics = ['acc'])"
   ]
  },
  {
   "cell_type": "code",
   "execution_count": 47,
   "metadata": {},
   "outputs": [
    {
     "name": "stderr",
     "output_type": "stream",
     "text": [
      "/home/jonas/anaconda3/lib/python3.7/site-packages/tensorflow_core/python/framework/indexed_slices.py:424: UserWarning: Converting sparse IndexedSlices to a dense Tensor of unknown shape. This may consume a large amount of memory.\n",
      "  \"Converting sparse IndexedSlices to a dense Tensor of unknown shape. \"\n"
     ]
    },
    {
     "name": "stdout",
     "output_type": "stream",
     "text": [
      "Train on 14987 samples, validate on 3466 samples\n",
      "Epoch 1/5\n",
      "14987/14987 [==============================] - 65s 4ms/step - loss: 0.0605 - acc: 0.8299 - val_loss: 0.0387 - val_acc: 0.8894\n",
      "Epoch 2/5\n",
      "14987/14987 [==============================] - 59s 4ms/step - loss: 0.0283 - acc: 0.9099 - val_loss: 0.0246 - val_acc: 0.9278\n",
      "Epoch 3/5\n",
      "14987/14987 [==============================] - 60s 4ms/step - loss: 0.0200 - acc: 0.9363 - val_loss: 0.0196 - val_acc: 0.9434\n",
      "Epoch 4/5\n",
      "14987/14987 [==============================] - 65s 4ms/step - loss: 0.0163 - acc: 0.9480 - val_loss: 0.0176 - val_acc: 0.9493\n",
      "Epoch 5/5\n",
      "14987/14987 [==============================] - 61s 4ms/step - loss: 0.0141 - acc: 0.9538 - val_loss: 0.0164 - val_acc: 0.9523\n"
     ]
    }
   ],
   "source": [
    "retrain_model = True\n",
    "if retrain_model:\n",
    "    history = model2.fit(X, Y_train,\n",
    "                    epochs = 5,\n",
    "                    batch_size = 256,\n",
    "                    validation_data = (X_dev, Y_dev))"
   ]
  },
  {
   "cell_type": "code",
   "execution_count": 48,
   "metadata": {
    "scrolled": false
   },
   "outputs": [],
   "source": [
    "if retrain_model:\n",
    "    model2.save_weights('model_2_lab4.model')\n",
    "else:\n",
    "    model2.load_weights('model_2_lab4.model')"
   ]
  },
  {
   "cell_type": "code",
   "execution_count": 49,
   "metadata": {},
   "outputs": [
    {
     "data": {
      "image/png": "[encoded data removed]",
      "text/plain": [
       "<Figure size 432x288 with 1 Axes>"
      ]
     },
     "metadata": {
      "needs_background": "light"
     },
     "output_type": "display_data"
    },
    {
     "data": {
      "image/png": "[encoded data removed]",
      "text/plain": [
       "<Figure size 432x288 with 1 Axes>"
      ]
     },
     "metadata": {
      "needs_background": "light"
     },
     "output_type": "display_data"
    }
   ],
   "source": [
    "acc = history.history['acc']\n",
    "val_acc = history.history['val_acc']\n",
    "loss = history.history['loss']\n",
    "val_loss = history.history['val_loss']\n",
    "\n",
    "epochs = range(1, len(acc) + 1)\n",
    "\n",
    "plt.plot(epochs, acc, 'bo', label = 'Training acc')\n",
    "plt.plot(epochs, val_acc, 'b', label = 'Validation acc')\n",
    "plt.title('Training and Validaion accuracy')\n",
    "plt.legend()\n",
    "\n",
    "plt.figure()\n",
    "\n",
    "plt.plot(epochs, loss, 'bo', label = 'Training loss')\n",
    "plt.plot(epochs, val_loss, 'b', label = 'Validation loss')\n",
    "plt.title('Training and Validaion loss')\n",
    "plt.legend()\n",
    "\n",
    "plt.show()"
   ]
  },
  {
   "cell_type": "code",
   "execution_count": 50,
   "metadata": {},
   "outputs": [
    {
     "name": "stdout",
     "output_type": "stream",
     "text": [
      "3684/3684 [==============================] - 3s 876us/step\n"
     ]
    }
   ],
   "source": [
    "test_loss, test_acc = model2.evaluate(X_test, Y_test)"
   ]
  },
  {
   "cell_type": "code",
   "execution_count": 51,
   "metadata": {},
   "outputs": [
    {
     "name": "stdout",
     "output_type": "stream",
     "text": [
      "Test loss : 0.01638518374041127\n",
      "Test acc  : 0.9386919736862183\n"
     ]
    }
   ],
   "source": [
    "print(\"Test loss :\", test_loss)\n",
    "print(\"Test acc  :\", test_acc)"
   ]
  },
  {
   "cell_type": "code",
   "execution_count": 52,
   "metadata": {},
   "outputs": [],
   "source": [
    "Y_pred = model2.predict(X_test)\n",
    "Y_preds = np.argmax(Y_pred, axis = 2)"
   ]
  },
  {
   "cell_type": "code",
   "execution_count": 53,
   "metadata": {},
   "outputs": [
    {
     "data": {
      "text/plain": [
       "(3684, 150)"
      ]
     },
     "execution_count": 53,
     "metadata": {},
     "output_type": "execute_result"
    }
   ],
   "source": [
    "np.shape(np.argmax(Y_test, axis = 2))"
   ]
  },
  {
   "cell_type": "code",
   "execution_count": 54,
   "metadata": {},
   "outputs": [],
   "source": [
    "Y_test_ = [y[y != 0.] for y in np.argmax(Y_test, axis = 2)]\n",
    "Y_pred_ = [y_hat[y != 0.] for y, y_hat in zip(np.argmax(Y_test, axis = 2), Y_preds)]"
   ]
  },
  {
   "cell_type": "code",
   "execution_count": 55,
   "metadata": {},
   "outputs": [
    {
     "name": "stdout",
     "output_type": "stream",
     "text": [
      "True values      : [9 9 5 9 9 9 9 8 9 9 9 9]\n",
      "Predicted values : [9 9 5 9 9 9 9 5 9 9 9 9]\n"
     ]
    }
   ],
   "source": [
    "print(\"True values      :\", Y_test_[1])\n",
    "print(\"Predicted values :\", Y_pred_[1])"
   ]
  },
  {
   "cell_type": "code",
   "execution_count": 56,
   "metadata": {},
   "outputs": [],
   "source": [
    "save(\"output2.txt\", test_dict, ner, Y_test_, Y_pred_)"
   ]
  },
  {
   "cell_type": "markdown",
   "metadata": {},
   "source": [
    "### Model 3"
   ]
  },
  {
   "cell_type": "code",
   "execution_count": 57,
   "metadata": {},
   "outputs": [],
   "source": [
    "from keras.layers import Bidirectional"
   ]
  },
  {
   "cell_type": "code",
   "execution_count": 58,
   "metadata": {},
   "outputs": [
    {
     "name": "stdout",
     "output_type": "stream",
     "text": [
      "Model: \"sequential_3\"\n",
      "_________________________________________________________________\n",
      "Layer (type)                 Output Shape              Param #   \n",
      "=================================================================\n",
      "embedding_3 (Embedding)      (None, 150, 100)          40259700  \n",
      "_________________________________________________________________\n",
      "bidirectional_1 (Bidirection (None, 150, 200)          160800    \n",
      "_________________________________________________________________\n",
      "dropout_2 (Dropout)          (None, 150, 200)          0         \n",
      "_________________________________________________________________\n",
      "dense_3 (Dense)              (None, 150, 10)           2010      \n",
      "=================================================================\n",
      "Total params: 40,422,510\n",
      "Trainable params: 40,422,510\n",
      "Non-trainable params: 0\n",
      "_________________________________________________________________\n"
     ]
    }
   ],
   "source": [
    "model3 = Sequential()\n",
    "model3.add(Embedding(len(vocabulary_words) + 2, \n",
    "                    EMBEDDINGS_DIM, \n",
    "                    input_length = max_len, \n",
    "                    mask_zero = True))\n",
    "model3.add(Bidirectional(LSTM(EMBEDDINGS_DIM, return_sequences = True)))\n",
    "model3.add(Dropout(0.5))\n",
    "model3.add(Dense(units = len(ner) + 2, activation = 'softmax'))\n",
    "\n",
    "model3.layers[0].set_weights([embedding_matrix])\n",
    "model3.layers[0].trainable = True\n",
    "\n",
    "model3.summary()"
   ]
  },
  {
   "cell_type": "code",
   "execution_count": 59,
   "metadata": {},
   "outputs": [],
   "source": [
    "model3.compile(optimizer = optimizers.RMSprop(),\n",
    "              loss = 'categorical_crossentropy',\n",
    "              metrics = ['acc'])"
   ]
  },
  {
   "cell_type": "code",
   "execution_count": 60,
   "metadata": {},
   "outputs": [
    {
     "name": "stderr",
     "output_type": "stream",
     "text": [
      "/home/jonas/anaconda3/lib/python3.7/site-packages/tensorflow_core/python/framework/indexed_slices.py:424: UserWarning: Converting sparse IndexedSlices to a dense Tensor of unknown shape. This may consume a large amount of memory.\n",
      "  \"Converting sparse IndexedSlices to a dense Tensor of unknown shape. \"\n"
     ]
    },
    {
     "name": "stdout",
     "output_type": "stream",
     "text": [
      "Train on 14987 samples, validate on 3466 samples\n",
      "Epoch 1/5\n",
      "14987/14987 [==============================] - 94s 6ms/step - loss: 0.0485 - acc: 0.8506 - val_loss: 0.0289 - val_acc: 0.9080\n",
      "Epoch 2/5\n",
      "14987/14987 [==============================] - 96s 6ms/step - loss: 0.0217 - acc: 0.9284 - val_loss: 0.0193 - val_acc: 0.9387\n",
      "Epoch 3/5\n",
      "14987/14987 [==============================] - 95s 6ms/step - loss: 0.0156 - acc: 0.9488 - val_loss: 0.0158 - val_acc: 0.9516\n",
      "Epoch 4/5\n",
      "14987/14987 [==============================] - 108s 7ms/step - loss: 0.0126 - acc: 0.9579 - val_loss: 0.0139 - val_acc: 0.9566\n",
      "Epoch 5/5\n",
      "14987/14987 [==============================] - 126s 8ms/step - loss: 0.0107 - acc: 0.9639 - val_loss: 0.0131 - val_acc: 0.9577\n"
     ]
    }
   ],
   "source": [
    "retrain_model = True\n",
    "if retrain_model:\n",
    "    history = model3.fit(X, Y_train,\n",
    "                    epochs = 5,\n",
    "                    batch_size = 256,\n",
    "                    validation_data = (X_dev, Y_dev))"
   ]
  },
  {
   "cell_type": "code",
   "execution_count": 61,
   "metadata": {
    "scrolled": false
   },
   "outputs": [],
   "source": [
    "if retrain_model:\n",
    "    model3.save_weights('model_3_lab4.model')\n",
    "else:\n",
    "    model3.load_weights('model_3_lab4.model')"
   ]
  },
  {
   "cell_type": "code",
   "execution_count": 62,
   "metadata": {},
   "outputs": [
    {
     "data": {
      "image/png": "[encoded data removed]",
      "text/plain": [
       "<Figure size 432x288 with 1 Axes>"
      ]
     },
     "metadata": {
      "needs_background": "light"
     },
     "output_type": "display_data"
    },
    {
     "data": {
      "image/png": "[encoded data removed]",
      "text/plain": [
       "<Figure size 432x288 with 1 Axes>"
      ]
     },
     "metadata": {
      "needs_background": "light"
     },
     "output_type": "display_data"
    }
   ],
   "source": [
    "acc = history.history['acc']\n",
    "val_acc = history.history['val_acc']\n",
    "loss = history.history['loss']\n",
    "val_loss = history.history['val_loss']\n",
    "\n",
    "epochs = range(1, len(acc) + 1)\n",
    "\n",
    "plt.plot(epochs, acc, 'bo', label = 'Training acc')\n",
    "plt.plot(epochs, val_acc, 'b', label = 'Validation acc')\n",
    "plt.title('Training and Validaion accuracy')\n",
    "plt.legend()\n",
    "\n",
    "plt.figure()\n",
    "\n",
    "plt.plot(epochs, loss, 'bo', label = 'Training loss')\n",
    "plt.plot(epochs, val_loss, 'b', label = 'Validation loss')\n",
    "plt.title('Training and Validaion loss')\n",
    "plt.legend()\n",
    "\n",
    "plt.show()"
   ]
  },
  {
   "cell_type": "code",
   "execution_count": 63,
   "metadata": {},
   "outputs": [
    {
     "name": "stdout",
     "output_type": "stream",
     "text": [
      "3684/3684 [==============================] - 6s 2ms/step\n"
     ]
    }
   ],
   "source": [
    "test_loss, test_acc = model3.evaluate(X_test, Y_test)"
   ]
  },
  {
   "cell_type": "code",
   "execution_count": 64,
   "metadata": {},
   "outputs": [
    {
     "name": "stdout",
     "output_type": "stream",
     "text": [
      "Test loss : 0.014565746389793579\n",
      "Test acc  : 0.9434277415275574\n"
     ]
    }
   ],
   "source": [
    "print(\"Test loss :\", test_loss)\n",
    "print(\"Test acc  :\", test_acc)"
   ]
  },
  {
   "cell_type": "code",
   "execution_count": 65,
   "metadata": {},
   "outputs": [],
   "source": [
    "Y_pred = model3.predict(X_test)\n",
    "Y_preds = np.argmax(Y_pred, axis = 2)"
   ]
  },
  {
   "cell_type": "code",
   "execution_count": 66,
   "metadata": {},
   "outputs": [
    {
     "data": {
      "text/plain": [
       "(3684, 150)"
      ]
     },
     "execution_count": 66,
     "metadata": {},
     "output_type": "execute_result"
    }
   ],
   "source": [
    "np.shape(np.argmax(Y_test, axis = 2))"
   ]
  },
  {
   "cell_type": "code",
   "execution_count": 67,
   "metadata": {},
   "outputs": [],
   "source": [
    "Y_test_ = [y[y != 0.] for y in np.argmax(Y_test, axis = 2)]\n",
    "Y_pred_ = [y_hat[y != 0.] for y, y_hat in zip(np.argmax(Y_test, axis = 2), Y_preds)]"
   ]
  },
  {
   "cell_type": "code",
   "execution_count": 68,
   "metadata": {},
   "outputs": [
    {
     "name": "stdout",
     "output_type": "stream",
     "text": [
      "True values      : [9 9 5 9 9 9 9 8 9 9 9 9]\n",
      "Predicted values : [9 9 5 9 9 9 9 5 9 9 9 9]\n"
     ]
    }
   ],
   "source": [
    "print(\"True values      :\", Y_test_[1])\n",
    "print(\"Predicted values :\", Y_pred_[1])"
   ]
  },
  {
   "cell_type": "code",
   "execution_count": 69,
   "metadata": {},
   "outputs": [],
   "source": [
    "save(\"output3.txt\", test_dict, ner, Y_test_, Y_pred_)"
   ]
  }
 ],
 "metadata": {
  "kernelspec": {
   "display_name": "Python 3",
   "language": "python",
   "name": "python3"
  },
  "language_info": {
   "codemirror_mode": {
    "name": "ipython",
    "version": 3
   },
   "file_extension": ".py",
   "mimetype": "text/x-python",
   "name": "python",
   "nbconvert_exporter": "python",
   "pygments_lexer": "ipython3",
   "version": "3.7.5"
  }
 },
 "nbformat": 4,
 "nbformat_minor": 2
}
